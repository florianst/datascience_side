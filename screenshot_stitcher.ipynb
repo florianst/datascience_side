{
 "cells": [
  {
   "cell_type": "code",
   "execution_count": 15,
   "metadata": {},
   "outputs": [],
   "source": [
    "from PIL import Image\n",
    "import numpy as np\n",
    "from tqdm import tqdm"
   ]
  },
  {
   "cell_type": "code",
   "execution_count": 156,
   "metadata": {},
   "outputs": [
    {
     "name": "stdout",
     "output_type": "stream",
     "text": [
      "(900, 1128, 3) (859, 1039, 3)\n"
     ]
    }
   ],
   "source": [
    "top = np.asarray(Image.open(\"screenshot_top.png\"))\n",
    "bottom = np.asarray(Image.open(\"screenshot_bottom2.png\"))\n",
    "\n",
    "if top.shape[2] != 3: top = top[:, :, :3]\n",
    "if bottom.shape[2] != 3: bottom = bottom[:, :, :3]\n",
    "    \n",
    "print(top.shape, bottom.shape)"
   ]
  },
  {
   "cell_type": "code",
   "execution_count": 157,
   "metadata": {},
   "outputs": [],
   "source": [
    "def overlap_score(overlapping_pixels_top, overlapping_pixels_bottom):\n",
    "    score = 0\n",
    "    for px1, px2 in zip(overlapping_pixels_top, overlapping_pixels_bottom):\n",
    "        score += np.sum(np.abs(px1-px2))\n",
    "        \n",
    "    return score / (overlapping_pixels_top.shape[0] * overlapping_pixels_top.shape[1])"
   ]
  },
  {
   "cell_type": "code",
   "execution_count": 162,
   "metadata": {},
   "outputs": [
    {
     "name": "stderr",
     "output_type": "stream",
     "text": [
      " 76%|████████████████████████████████████████████████████████████▍                   | 151/200 [00:11<00:03, 13.58it/s]\n"
     ]
    },
    {
     "data": {
      "text/plain": [
       "([51, -41], 0.0)"
      ]
     },
     "execution_count": 162,
     "metadata": {},
     "output_type": "execute_result"
    }
   ],
   "source": [
    "# top picture stays stable\n",
    "# (0, 0) is upper left corner\n",
    "\n",
    "max_score = 1e9\n",
    "for x_offset in tqdm(range(-100, 100)):\n",
    "    for y_offset in range(-100, 0):\n",
    "        overlapping_pixels_top    = top[y_offset:, max(x_offset, 0):min(top.shape[0], x_offset+bottom.shape[0]), :]\n",
    "        overlapping_pixels_bottom = bottom[:-y_offset, max(-x_offset, 0):min(bottom.shape[0], top.shape[0]-x_offset), :]\n",
    "        assert overlapping_pixels_top.shape == overlapping_pixels_bottom.shape\n",
    "        \n",
    "        score = overlap_score(overlapping_pixels_top, overlapping_pixels_bottom)\n",
    "        if score < max_score: \n",
    "            max_score = score\n",
    "            best_coords = [x_offset, y_offset]\n",
    "\n",
    "        if max_score == 0: break\n",
    "    if max_score == 0: break\n",
    "        \n",
    "best_coords, max_score"
   ]
  },
  {
   "cell_type": "code",
   "execution_count": null,
   "metadata": {},
   "outputs": [],
   "source": [
    "x_offset, y_offset = best_coords\n",
    "\n",
    "overlapping_pixels_top    = top[y_offset:, max(x_offset, 0):min(top.shape[0], x_offset+bottom.shape[0]), :]\n",
    "overlapping_pixels_bottom = bottom[:-y_offset, max(-x_offset, 0):min(bottom.shape[0], top.shape[0]-x_offset), :]\n",
    "\n",
    "Image.fromarray(overlapping_pixels_top)"
   ]
  },
  {
   "cell_type": "code",
   "execution_count": null,
   "metadata": {},
   "outputs": [],
   "source": [
    "Image.fromarray(overlapping_pixels_bottom)"
   ]
  },
  {
   "cell_type": "code",
   "execution_count": null,
   "metadata": {},
   "outputs": [],
   "source": [
    "assembled_img = np.zeros(np.array(top.shape) + np.array([bottom.shape[0]+best_coords[1], max(bottom.shape[1]-top.shape[1], 0) + max(0, bottom.shape[1]-(best_coords[0]+top.shape[1])), 0]), dtype='uint8')\n",
    "if best_coords[0] > 0: # top image left, bottom image right\n",
    "    assembled_img[0:top.shape[0], 0:top.shape[1], 0:top.shape[2]] = top\n",
    "    \n",
    "    assembled_img[top.shape[0]+best_coords[1]:top.shape[0]+best_coords[1]+bottom.shape[0], best_coords[0]:best_coords[0]+bottom.shape[1], 0:top.shape[2]] = bottom\n",
    "    \n",
    "else: # top image right, bottom image left\n",
    "    newshape = np.array(top.shape) + np.array([max(0, best_coords[0]), 0, 0])\n",
    "    assembled_img[0:newshape[0], 0:newshape[1], 0:newshape[2]] = top\n",
    "\n",
    "    newpos = np.array(top.shape) + np.array([best_coords[0], 0, 0])\n",
    "    assembled_img[top.shape[0]+best_coords[1]:top.shape[0]+best_coords[1]+bottom.shape[0], :bottom.shape[1], 0:top.shape[2]] = bottom\n",
    "    \n",
    "Image.fromarray(assembled_img)"
   ]
  },
  {
   "cell_type": "code",
   "execution_count": null,
   "metadata": {},
   "outputs": [],
   "source": []
  }
 ],
 "metadata": {
  "kernelspec": {
   "display_name": "tf_gpu",
   "language": "python",
   "name": "tf_gpu"
  },
  "language_info": {
   "codemirror_mode": {
    "name": "ipython",
    "version": 3
   },
   "file_extension": ".py",
   "mimetype": "text/x-python",
   "name": "python",
   "nbconvert_exporter": "python",
   "pygments_lexer": "ipython3",
   "version": "3.7.10"
  }
 },
 "nbformat": 4,
 "nbformat_minor": 4
}
