{
 "cells": [
  {
   "cell_type": "code",
   "execution_count": null,
   "metadata": {},
   "outputs": [],
   "source": [
    "from PIL import Image\n",
    "import numpy as np\n",
    "from tqdm import tqdm\n",
    "from os import listdir"
   ]
  },
  {
   "cell_type": "code",
   "execution_count": null,
   "metadata": {},
   "outputs": [],
   "source": [
    "def overlap_score(overlapping_pixels_top, overlapping_pixels_bottom):\n",
    "    score = 0\n",
    "    for px1, px2 in zip(overlapping_pixels_top, overlapping_pixels_bottom):\n",
    "        score += np.sum(np.abs(px1-px2))\n",
    "        \n",
    "    return score / (overlapping_pixels_top.shape[0] * overlapping_pixels_top.shape[1])\n",
    "\n",
    "def find_coords(top, bottom):\n",
    "    max_score = 1e9\n",
    "    for x_offset in tqdm(range(-100, 100)):\n",
    "        for y_offset in range(-100, 0):\n",
    "            overlapping_pixels_top    = top[y_offset:, max(x_offset, 0):min(top.shape[0], x_offset+bottom.shape[0]), :]\n",
    "            overlapping_pixels_bottom = bottom[:-y_offset, max(-x_offset, 0):min(bottom.shape[0], top.shape[0]-x_offset), :]\n",
    "            assert overlapping_pixels_top.shape == overlapping_pixels_bottom.shape\n",
    "\n",
    "            score = overlap_score(overlapping_pixels_top, overlapping_pixels_bottom)\n",
    "            if score < max_score: \n",
    "                max_score = score\n",
    "                best_coords = [x_offset, y_offset]\n",
    "\n",
    "            if max_score == 0: break\n",
    "        if max_score == 0: break\n",
    "\n",
    "    return best_coords, max_score"
   ]
  },
  {
   "cell_type": "code",
   "execution_count": null,
   "metadata": {},
   "outputs": [],
   "source": [
    "path = 'doku'\n",
    "file_list = np.unique([s[:-6] for s in listdir(path)])\n",
    "file_list"
   ]
  },
  {
   "cell_type": "code",
   "execution_count": null,
   "metadata": {
    "scrolled": false
   },
   "outputs": [],
   "source": [
    "%matplotlib inline\n",
    "\n",
    "for filename in file_list:\n",
    "    top = np.asarray(Image.open(path+'/'+filename+\"_O.PNG\"))\n",
    "    bottom = np.asarray(Image.open(path+'/'+filename+\"_U.PNG\"))\n",
    "\n",
    "    if top.shape[2] != 3: top = top[:, :, :3]\n",
    "    if bottom.shape[2] != 3: bottom = bottom[:, :, :3]\n",
    "        \n",
    "    best_coords, max_score = find_coords(top, bottom)\n",
    "\n",
    "    if max_score != 0: \n",
    "        # repeat fit with 1px removed all round both images\n",
    "        top = top[1:-1, 1:-1, :]\n",
    "        bottom = bottom[1:-1, 1:-1, :]\n",
    "        \n",
    "        best_coords, max_score = find_coords(top, bottom)\n",
    "        \n",
    "    if max_score != 0: print(filename)\n",
    "    \n",
    "    x_offset, y_offset = best_coords\n",
    "\n",
    "    overlapping_pixels_top    = top[y_offset:, max(x_offset, 0):min(top.shape[0], x_offset+bottom.shape[0]), :]\n",
    "    overlapping_pixels_bottom = bottom[:-y_offset, max(-x_offset, 0):min(bottom.shape[0], top.shape[0]-x_offset), :]\n",
    "    \n",
    "    #assembled_img = np.zeros(np.array(top.shape) + np.array([bottom.shape[0]+best_coords[1], max(bottom.shape[1]-top.shape[1], 0) + max(0, bottom.shape[1]-(best_coords[0]+top.shape[1])), 0]), dtype='uint8')\n",
    "    assembled_img = np.zeros(np.array(top.shape) + np.array([bottom.shape[0]+best_coords[1], max(bottom.shape[1]-top.shape[1], 0) + max(0, bottom.shape[1]-top.shape[1]+best_coords[0]), 0]), dtype='uint8')\n",
    "    if best_coords[0] > 0: # top image left, bottom image right\n",
    "        assembled_img[0:top.shape[0], 0:top.shape[1], 0:top.shape[2]] = top\n",
    "\n",
    "        assembled_img[top.shape[0]+best_coords[1]:top.shape[0]+best_coords[1]+bottom.shape[0], best_coords[0]:best_coords[0]+bottom.shape[1], 0:top.shape[2]] = bottom\n",
    "\n",
    "    else: # top image right, bottom image left\n",
    "        newshape = np.array(top.shape) + np.array([max(0, best_coords[0]), 0, 0])\n",
    "        assembled_img[0:newshape[0], 0:newshape[1], 0:newshape[2]] = top\n",
    "\n",
    "        newpos = np.array(top.shape) + np.array([best_coords[0], 0, 0])\n",
    "        assembled_img[top.shape[0]+best_coords[1]:top.shape[0]+best_coords[1]+bottom.shape[0], :bottom.shape[1], 0:top.shape[2]] = bottom\n",
    "\n",
    "    assembled_img_pil = Image.fromarray(assembled_img)\n",
    "    assembled_img_pil.save(path+'/stitched/'+filename+\".PNG\")\n",
    "    #display(assembled_img_pil)"
   ]
  },
  {
   "cell_type": "code",
   "execution_count": null,
   "metadata": {},
   "outputs": [],
   "source": []
  }
 ],
 "metadata": {
  "kernelspec": {
   "display_name": "tf_gpu",
   "language": "python",
   "name": "tf_gpu"
  },
  "language_info": {
   "codemirror_mode": {
    "name": "ipython",
    "version": 3
   },
   "file_extension": ".py",
   "mimetype": "text/x-python",
   "name": "python",
   "nbconvert_exporter": "python",
   "pygments_lexer": "ipython3",
   "version": "3.7.10"
  }
 },
 "nbformat": 4,
 "nbformat_minor": 4
}
